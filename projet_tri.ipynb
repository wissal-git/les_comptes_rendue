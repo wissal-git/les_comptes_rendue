{
 "cells": [
  {
   "cell_type": "markdown",
   "metadata": {},
   "source": [
    "## Projet-Algorithmique avancéeThème: Analyse & Complexité des Algorithmes"
   ]
  },
  {
   "cell_type": "markdown",
   "metadata": {},
   "source": [
    "### objectif :\n",
    "* Étudier le nombre de comparaisons d’éléments des tris par sélection, par insertion et par la méthode sort des listes.\n",
    "\n",
    "* Retrouver les résultats établis en cours.\n",
    "\n",
    "* Étudier expérimentalement la complexité en temps du tri par sélection et du tri par insertion dans le meilleur des cas,le pire des cas et en moyenne.\n",
    "\n",
    "### Travail à faire :\n",
    "\n",
    "* Tri par sélection\n",
    "* Tri à bulle\n",
    "* Tri par insertion\n",
    "* Tri par fusion\n",
    "* Tri rapide\n"
   ]
  },
  {
   "cell_type": "markdown",
   "metadata": {},
   "source": [
    "### tri par sélection \n",
    "- Dans l’algorithme de tri par sélection, nous cherchons l’élément le plus petit et on le met au bon endroit. Nous échangeons l’élément en cours avec le prochain élément le plus petit.\n",
    "\n",
    "- Principe\n",
    "\n",
    "TANT QUE  il reste plus d’un élément non trié faire\n",
    "    1. Chercher le plus petit parmi les non triés.\n",
    "    2. Échanger le premier élément non trié avec le plus petit trouvé.\n",
    "    \n",
    "FAIT"
   ]
  },
  {
   "cell_type": "code",
   "execution_count": 27,
   "metadata": {},
   "outputs": [],
   "source": [
    "def tri_select (vect,ordre='croi'):\n",
    "    if ordre=='croi' :\n",
    "        i=0\n",
    "        while i<len(vect):\n",
    "            x=vect[i]\n",
    "            for count in range(i+1,len(vect)):\n",
    "                if x>vect[count]:\n",
    "                    x=vect[count]\n",
    "                    vect[count]=vect[i]\n",
    "                    vect[i]=x\n",
    "                    \n",
    "            i+=1\n",
    "    elif(ordre=='dec'):\n",
    "        i=0\n",
    "        while i<len(vect):\n",
    "            x=vect[i]\n",
    "            for count in range(i+1,len(vect)):\n",
    "                if x<vect[count]:\n",
    "                    x=vect[count]\n",
    "                    vect[count]=vect[i]\n",
    "                    vect[i]=x\n",
    "                    \n",
    "            i+=1\n",
    "    else:\n",
    "        print('entre lordre de tri soit croi: pour croissant ou dec:pour decorissant')\n",
    "    return vect\n"
   ]
  },
  {
   "cell_type": "markdown",
   "metadata": {},
   "source": [
    "### tri à bulle\n",
    "\n",
    "* L’algorithme de tri à bulles est connu comme l’algorithme de tri le plus simple.Dans l’algorithme de tri à bulle, le tableau est parcouru du premier au dernier élément. Ici, l’élément courant est comparé à l’élément suivant. Si l’élément en cours est supérieur à l’élément suivant, il est échangé. Voici comment le processus fonctionne :\n",
    " \n"
   ]
  },
  {
   "cell_type": "code",
   "execution_count": 28,
   "metadata": {},
   "outputs": [],
   "source": [
    "def tri_bul(vect,ordre='croi'):\n",
    "    permut=True\n",
    "    p=len(vect)-1\n",
    "    if ordre=='croi':\n",
    "        while permut :\n",
    "            permut=False\n",
    "            for counter in range(p):\n",
    "                if vect[counter]>vect[counter+1]:\n",
    "                    x=vect[counter]\n",
    "                    vect[counter]=vect[counter+1]\n",
    "                    vect[counter+1]=x\n",
    "                    permut=True\n",
    "            p-=1\n",
    "    elif ordre=='dec':\n",
    "        while permut :\n",
    "            permut=False\n",
    "            for counter in range(p):\n",
    "                if vect[counter]<vect[counter+1]:\n",
    "                    x=vect[counter]\n",
    "                    vect[counter]=vect[counter+1]\n",
    "                    vect[counter+1]=x\n",
    "                    permut=True\n",
    "            p-=1\n",
    "    else:\n",
    "        print('entre lordre de tri soit croi: pour croissant ou dec:pour decorissant')\n",
    "    return vect\n"
   ]
  },
  {
   "cell_type": "markdown",
   "metadata": {},
   "source": [
    "### Tri par insertion\n",
    "* L’algorithme du tri par insertion n’est utile que pour les petits éléments, car elle nécessite plus de temps pour trier un grand nombre d’éléments. Voici comment le processus fonctionne :\n",
    "\n",
    "\n",
    "<img src='Insertion-sort-example-300px.gif'>"
   ]
  },
  {
   "cell_type": "code",
   "execution_count": 29,
   "metadata": {},
   "outputs": [],
   "source": [
    "def tri_insert(vect,ordre='croi'):\n",
    "    if ordre=='croi':\n",
    "        for counter in range(len(vect)-1):\n",
    "            x=vect[counter+1]\n",
    "            j=counter\n",
    "            while ((vect[j]>x)and(j>=0)):\n",
    "                vect[j+1]=vect[j]\n",
    "                j-=1\n",
    "            vect[j+1]=x\n",
    "    elif ordre=='dec':\n",
    "        for counter in range(len(vect)-1):\n",
    "            x=v[counter+1]\n",
    "            j=counter\n",
    "            while ((vect[j]<x)and(j>=0)):\n",
    "                vect[j+1]=vect[j]\n",
    "                j-=1\n",
    "            vect[j+1]=x\n",
    "    else:\n",
    "        print('entre lordre de tri soit croi: pour croissant ou dec:pour decorissant')\n",
    "\n",
    "    return vect\n"
   ]
  },
  {
   "cell_type": "markdown",
   "metadata": {},
   "source": [
    "### Tri par fusion \n",
    "* Soient deux listes triées de même taille. La fusion consiste à obtenir à partir de ces deux listes la liste triée contenant tous les éléments. La figure suivante montre un exemple de fusion, où deux listes de 4 nombres sont fusionnées.\n",
    "\n",
    "\n",
    "\n",
    "<img src='Merge-sort-example-300px.gif'>\n"
   ]
  },
  {
   "cell_type": "code",
   "execution_count": 30,
   "metadata": {},
   "outputs": [],
   "source": [
    "def tri_fusion(T) :\n",
    "    if len(T)<=1 : \n",
    "        return T\n",
    "    T1=[T[x] for x in range(len(T)//2)]\n",
    "    T2=[T[x] for x in range(len(T)//2,len(T))]\n",
    "    return fusion(tri_fusion(T1),tri_fusion(T2))\n",
    "def fusion(T1,T2) :\n",
    "    if T1==[] :return T2\n",
    "    if T2==[] :return T1\n",
    "    if T1[0]<T2[0] :\n",
    "        return [T1[0]]+fusion(T1[1 :],T2)\n",
    "    else :\n",
    "        return [T2[0]]+fusion(T1,T2[1 :])\n"
   ]
  },
  {
   "cell_type": "markdown",
   "metadata": {},
   "source": [
    "### Tri rapide \n",
    "* Le tri rapide, ou quicksort, fait partie des tris qui utilisent les comparaisons. Son principe suit l'approche \"diviser pour régner\" : on sélectionne un élément de l'ensemble (le pivot) avant de placer d'un coté les éléments inférieurs ou égaux à cet élément, et de l'autre ceux qui lui sont supérieurs\n",
    "\n",
    "<img src='quick_sort_partition_animation.gif'>"
   ]
  },
  {
   "cell_type": "code",
   "execution_count": 3,
   "metadata": {},
   "outputs": [],
   "source": [
    "def triRapid(t):\n",
    "\tif len(t)<=2:\n",
    "\t\treturn t\n",
    "\telse:\n",
    "\t\tpivot=t[0]\n",
    "\t\tip=0\n",
    "\t\tleft=ip\n",
    "\t\tright=len(t)-1\n",
    "\t\twhile left<right:\n",
    "\t\t\tif (pivot>t[right] and ip<right):\n",
    "\t\t\t\tpermut(t,pivot,right,ip)\n",
    "\t\t\t\tip=right\n",
    "\t\t\tif (pivot<t[left] and ip>left):\n",
    "\t\t\t\t\tpermut(t,pivot,left,ip)\n",
    "\t\t\t\t\tip=left\n",
    "\t\t\tif left<ip:\n",
    "\t\t\t\tleft+=1\n",
    "\t\t\tif right>ip:\n",
    "\t\t\t\tright-=1\n",
    "\t\tt[:ip+1]=triRapid(t[:ip+1])\n",
    "\t\tt[ip+1:]=triRapid(t[ip+1:])\n",
    "\treturn t\n",
    "def permut(t,pivot,i,ip):\n",
    "\tx=t[i]\n",
    "\tt[i]=pivot\n",
    "\tt[ip]=x"
   ]
  },
  {
   "cell_type": "markdown",
   "metadata": {},
   "source": [
    "### mesure temps d'execution :"
   ]
  },
  {
   "cell_type": "code",
   "execution_count": null,
   "metadata": {},
   "outputs": [],
   "source": []
  },
  {
   "cell_type": "code",
   "execution_count": null,
   "metadata": {},
   "outputs": [],
   "source": []
  },
  {
   "cell_type": "markdown",
   "metadata": {},
   "source": [
    "### genération tableau "
   ]
  },
  {
   "cell_type": "code",
   "execution_count": 31,
   "metadata": {},
   "outputs": [],
   "source": [
    "import random\n",
    "def generate(n):\n",
    "    \n",
    "    l = [random.randint(0,n) for i in range(n)]\n",
    "    return l"
   ]
  },
  {
   "cell_type": "code",
   "execution_count": 9,
   "metadata": {},
   "outputs": [],
   "source": [
    "tab=[]\n",
    "ee=[]\n",
    "for n in range (20,50,5):\n",
    "    tab= generate(n)\n",
    "    list(tab)\n",
    "    #print(tab)\n",
    "    ee.append(tab)    \n",
    "#print(ee)"
   ]
  },
  {
   "cell_type": "code",
   "execution_count": 10,
   "metadata": {},
   "outputs": [
    {
     "name": "stdout",
     "output_type": "stream",
     "text": [
      "[2, 7, 4, 13, 13, 10, 3, 12, 9, 18, 16, 15, 9, 13, 15, 12, 15, 4, 5, 2]\n",
      "82.2 µs ± 9 µs per loop (mean ± std. dev. of 7 runs, 10000 loops each)\n",
      "[11, 17, 18, 18, 1, 17, 21, 3, 20, 18, 5, 24, 3, 23, 25, 5, 12, 16, 9, 13, 15, 9, 23, 4, 21]\n",
      "106 µs ± 10.2 µs per loop (mean ± std. dev. of 7 runs, 10000 loops each)\n",
      "[6, 30, 22, 7, 10, 22, 12, 16, 0, 6, 25, 14, 18, 28, 2, 24, 3, 28, 12, 16, 20, 28, 6, 1, 14, 15, 29, 13, 30, 30]\n",
      "136 µs ± 3.08 µs per loop (mean ± std. dev. of 7 runs, 10000 loops each)\n",
      "[10, 11, 22, 6, 31, 7, 8, 27, 27, 18, 28, 12, 16, 25, 17, 11, 14, 16, 0, 3, 8, 9, 30, 16, 3, 2, 27, 30, 7, 4, 16, 27, 28, 17, 7]\n",
      "207 µs ± 39.8 µs per loop (mean ± std. dev. of 7 runs, 10000 loops each)\n",
      "[3, 27, 8, 16, 1, 12, 32, 13, 19, 10, 15, 16, 0, 9, 25, 31, 24, 32, 21, 5, 23, 13, 32, 19, 12, 19, 27, 18, 9, 13, 25, 24, 29, 34, 8, 37, 8, 37, 23, 31]\n",
      "233 µs ± 2.46 µs per loop (mean ± std. dev. of 7 runs, 1000 loops each)\n",
      "[23, 20, 36, 24, 32, 5, 18, 8, 21, 41, 24, 16, 33, 15, 10, 37, 30, 39, 37, 33, 23, 6, 20, 21, 17, 19, 32, 25, 22, 38, 9, 45, 10, 37, 36, 13, 43, 11, 12, 3, 28, 15, 33, 26, 7]\n",
      "277 µs ± 6.62 µs per loop (mean ± std. dev. of 7 runs, 1000 loops each)\n"
     ]
    }
   ],
   "source": [
    "for _ in ee:\n",
    "    print(_)\n",
    "    %timeit triRapid(_)"
   ]
  },
  {
   "cell_type": "code",
   "execution_count": null,
   "metadata": {},
   "outputs": [],
   "source": []
  },
  {
   "cell_type": "code",
   "execution_count": null,
   "metadata": {},
   "outputs": [],
   "source": []
  },
  {
   "cell_type": "code",
   "execution_count": 11,
   "metadata": {},
   "outputs": [],
   "source": [
    "a = range(100000) \n",
    "b = [] \n",
    "for i in a:     \n",
    "    b.append(i*2)"
   ]
  },
  {
   "cell_type": "code",
   "execution_count": 13,
   "metadata": {},
   "outputs": [
    {
     "name": "stdout",
     "output_type": "stream",
     "text": [
      "0.015564641000000847\n"
     ]
    }
   ],
   "source": [
    "import timeit\n",
    "code_to_test = \"\"\"\n",
    "a = range(100000)\n",
    "b = []\n",
    "for i in a:\n",
    "    b.append(i*2)\n",
    "\"\"\"\n",
    "elapsed_time = timeit.timeit(code_to_test, number=100)/100\n",
    "print(elapsed_time)"
   ]
  },
  {
   "cell_type": "code",
   "execution_count": 25,
   "metadata": {},
   "outputs": [],
   "source": [
    "from random import randint\n",
    "def randlist(n):\n",
    "    return([randint(1,100) for i in range(n)])"
   ]
  },
  {
   "cell_type": "code",
   "execution_count": 28,
   "metadata": {},
   "outputs": [],
   "source": [
    "def chercheMax(L):\n",
    "    localMax=L[0]\n",
    "    for i in range(2,len(L)):\n",
    "        if L[i]>localMax:\n",
    "            localMax=L[i]\n",
    "    return localMax"
   ]
  },
  {
   "cell_type": "code",
   "execution_count": 36,
   "metadata": {},
   "outputs": [],
   "source": [
    "import random\n",
    "from functools import partial\n",
    "func=[triRapid,]\n",
    "x,y=[],[]\n",
    "for i in range(0,1000,100):\n",
    "    testTimer=timeit.Timer(partial(triRapid,generate(i)))\n",
    "    t=testTimer.timeit(number=10)\n",
    "    x.append(i)\n",
    "    y.append(t)"
   ]
  },
  {
   "cell_type": "code",
   "execution_count": 37,
   "metadata": {},
   "outputs": [
    {
     "data": {
      "text/plain": [
       "[<matplotlib.lines.Line2D at 0x2b9f323acd0>]"
      ]
     },
     "execution_count": 37,
     "metadata": {},
     "output_type": "execute_result"
    },
    {
     "data": {
      "image/png": "[encoded data removed]",
      "text/plain": [
       "<Figure size 432x288 with 1 Axes>"
      ]
     },
     "metadata": {
      "needs_background": "light"
     },
     "output_type": "display_data"
    }
   ],
   "source": [
    "import matplotlib.pyplot as plt\n",
    "plt.plot(x,y,marker='*')\n"
   ]
  },
  {
   "cell_type": "code",
   "execution_count": null,
   "metadata": {},
   "outputs": [],
   "source": []
  }
 ],
 "metadata": {
  "kernelspec": {
   "display_name": "Python 3",
   "language": "python",
   "name": "python3"
  },
  "language_info": {
   "codemirror_mode": {
    "name": "ipython",
    "version": 3
   },
   "file_extension": ".py",
   "mimetype": "text/x-python",
   "name": "python",
   "nbconvert_exporter": "python",
   "pygments_lexer": "ipython3",
   "version": "3.8.3"
  }
 },
 "nbformat": 4,
 "nbformat_minor": 4
}
