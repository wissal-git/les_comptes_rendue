{
 "cells": [
  {
   "cell_type": "markdown",
   "metadata": {},
   "source": [
    "##                                                projet algorithmique \n",
    "\n",
    "### _probléme des huit dames_ :\n",
    "\n",
    "1)  Formuler le problème selon le principe « Diviser pour régner » \n",
    "    \n",
    "le principe consiste a formuler une fonction qui place seulement une reine sur la premiere lignes du tableau ,effectuer un teste de validité , ainsi cette fonction est regenerer a chaque fois qu'on insere une nouvelle reine. \n",
    "    \n",
    "\n",
    "###  _Stratégie récursive_ :\n",
    "    \n",
    "Sachant qu’il y a des reines bien placées dans les lignes 1 à k − 1 et connaissant leur place, trouver toutes les solutions possibles en plaçant convenablement les reines de k à n. »\n",
    "    \n",
    "2) Ecrire un algorithme récursif appelé placer_reine permettant de placer une reine sur un échiquier. \n",
    "   \n",
    "###  _Algorithme de placement_ :\n",
    "\n",
    "Cette fonction donne la position de 8dames :\n",
    "\n",
    "**Etape :**\n",
    "\n",
    "1- Placer une dame sur la premiére ligne\n",
    "\n",
    "2- Parcourir à chaque fois la listes des emplacements libres dans la prochaine ligne \n",
    "\n",
    "3- Placer la reine dans les cases libre en verifiant les teste de     validité par colomne et par diagonal \n",
    "\n",
    "L'algorithme case_libre teste si la case à la ligne et à la colonne  n'est pas menacée par les reines précédemment placées. La vérification se fait en observant qu'aucune reine précédente n'est placée sur la même ligne, sur la même colonne ou les mêmes diagonales.\n",
    "\n",
    "\n",
    "\n",
    "L’algorithme placerRN(k) qui tente de placer la k éme  reine est alors :\n"
   ]
  },
  {
   "cell_type": "markdown",
   "metadata": {},
   "source": [
    "Algorithme case_libre (lst_dame):liste\n",
    "\n",
    "DONNÉES\n",
    "\n",
    "   lst_dame: liste\n",
    "   \n",
    "VARIABLES\n",
    "\n",
    "Lst_possible,lst_valide :liste\n",
    "\n",
    "Test_valide: booléen\n",
    "\n",
    "DEBUT\n",
    "  \n",
    "  Test_valide← VRAI\n",
    "   \n",
    "   Pour i dans lst_possible faire \n",
    "   \n",
    "       Pour j dans lst_dame faire\n",
    "               Si ( lst_possible[1] =lst_dame[1]) alors\n",
    "                             Test_valide ← faux       \n",
    "               Sinon \n",
    "                            abs((i[0]-j[0])/(i[1]-j[1]))=1\n",
    "                            Test_valide ← faux \n",
    "               finsi   \n",
    "       fin pour     \n",
    "       Si (test_valide<-vrai) alors\n",
    "                Lst_valide <- i \n",
    "   fin pour   \n",
    "   \n",
    "   Retourner lst_valide \n",
    "   \n",
    "FIN"
   ]
  },
  {
   "cell_type": "code",
   "execution_count": 31,
   "metadata": {},
   "outputs": [],
   "source": [
    "def case_libre(lst_dame):\n",
    "    lst_possible =[(len(lst_dame), i) for i in range(8)]\n",
    "    \n",
    "    lst_valide =[]\n",
    "    for i in lst_possible :\n",
    "        test_valide=True \n",
    "        for j in lst_dame:\n",
    "            if i[1]==j[1]:\n",
    "                test_valide =False \n",
    "            elif abs((i[0]-j[0])/(i[1]-j[1]))==1 :\n",
    "                test_valide=False\n",
    "        if test_valide:\n",
    "            lst_valide.append(i)\n",
    "    return lst_valide  \n",
    "\n"
   ]
  },
  {
   "cell_type": "markdown",
   "metadata": {},
   "source": [
    "3) Ecrire un algorithme récursif appelé placer_toutes_reines permettant de placer toutes les reines sur un échiquier. Votre algorithme devra chercher au moins une solution possible.    \n",
    "\n",
    "L'algorithme Placertoute Reine est chargé de placer les reines les unes après les autres . l'algorithme ne s'arrête pas dès que les nn reines sont placées mais poursuit son investigation dans l'arbre jusqu'au bout. Les n alternatives de placement d'une reine sur une ligne se concrétisent dans l'algorithme par une boucle suivie d'un test pour  vérifier que la case candidate n'est pas menacée. \n",
    "\n",
    "    \n",
    "    algorithme placer_toute_reines :\n"
   ]
  },
  {
   "cell_type": "code",
   "execution_count": null,
   "metadata": {},
   "outputs": [],
   "source": []
  },
  {
   "cell_type": "code",
   "execution_count": 35,
   "metadata": {},
   "outputs": [
    {
     "name": "stdout",
     "output_type": "stream",
     "text": [
      "[(0, 0), (1, 4), (2, 7), (3, 5), (4, 2), (5, 6), (6, 1), (7, 3)]\n",
      "[(0, 0), (1, 5), (2, 7), (3, 2), (4, 6), (5, 3), (6, 1), (7, 4)]\n",
      "[(0, 0), (1, 6), (2, 3), (3, 5), (4, 7), (5, 1), (6, 4), (7, 2)]\n",
      "[(0, 0), (1, 6), (2, 4), (3, 7), (4, 1), (5, 3), (6, 5), (7, 2)]\n",
      "None\n"
     ]
    }
   ],
   "source": [
    "\n",
    "def   position_dames(lst_dame=[]):\n",
    "    for i in case_libre(lst_dame):\n",
    "        #si la long liste des dames est 7 encore trouver un emplacement libre \n",
    "        if len(lst_dame)==7:\n",
    "            #imprimer solution liste des dames en lui ajoutant l'esspace libre\n",
    "            print(lst_dame + [i])\n",
    "        else :\n",
    "            #ajouter la liste des dames qu'on viennt de trouver \n",
    "            position_dames(lst_dame +[i])\n",
    "            \n",
    "            \n",
    "print(position_dames([(0,0)]))"
   ]
  },
  {
   "cell_type": "code",
   "execution_count": null,
   "metadata": {},
   "outputs": [],
   "source": [
    "\n"
   ]
  }
 ],
 "metadata": {
  "kernelspec": {
   "display_name": "Python 3",
   "language": "python",
   "name": "python3"
  },
  "language_info": {
   "codemirror_mode": {
    "name": "ipython",
    "version": 3
   },
   "file_extension": ".py",
   "mimetype": "text/x-python",
   "name": "python",
   "nbconvert_exporter": "python",
   "pygments_lexer": "ipython3",
   "version": "3.8.3"
  }
 },
 "nbformat": 4,
 "nbformat_minor": 4
}
